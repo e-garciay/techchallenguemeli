{
 "cells": [
  {
   "cell_type": "code",
   "execution_count": 31,
   "id": "6778c168-b0b5-4589-bc64-2c95a79fb8e7",
   "metadata": {},
   "outputs": [
    {
     "data": {
      "text/html": [
       "<div>\n",
       "<style scoped>\n",
       "    .dataframe tbody tr th:only-of-type {\n",
       "        vertical-align: middle;\n",
       "    }\n",
       "\n",
       "    .dataframe tbody tr th {\n",
       "        vertical-align: top;\n",
       "    }\n",
       "\n",
       "    .dataframe thead th {\n",
       "        text-align: right;\n",
       "    }\n",
       "</style>\n",
       "<table border=\"1\" class=\"dataframe\">\n",
       "  <thead>\n",
       "    <tr style=\"text-align: right;\">\n",
       "      <th></th>\n",
       "      <th>id</th>\n",
       "      <th>name</th>\n",
       "    </tr>\n",
       "  </thead>\n",
       "  <tbody>\n",
       "    <tr>\n",
       "      <th>0</th>\n",
       "      <td>MLA5725</td>\n",
       "      <td>Accesorios para Vehículos</td>\n",
       "    </tr>\n",
       "    <tr>\n",
       "      <th>1</th>\n",
       "      <td>MLA1512</td>\n",
       "      <td>Agro</td>\n",
       "    </tr>\n",
       "    <tr>\n",
       "      <th>2</th>\n",
       "      <td>MLA1403</td>\n",
       "      <td>Alimentos y Bebidas</td>\n",
       "    </tr>\n",
       "    <tr>\n",
       "      <th>3</th>\n",
       "      <td>MLA1071</td>\n",
       "      <td>Animales y Mascotas</td>\n",
       "    </tr>\n",
       "    <tr>\n",
       "      <th>4</th>\n",
       "      <td>MLA1367</td>\n",
       "      <td>Antigüedades y Colecciones</td>\n",
       "    </tr>\n",
       "  </tbody>\n",
       "</table>\n",
       "</div>"
      ],
      "text/plain": [
       "        id                        name\n",
       "0  MLA5725   Accesorios para Vehículos\n",
       "1  MLA1512                        Agro\n",
       "2  MLA1403         Alimentos y Bebidas\n",
       "3  MLA1071         Animales y Mascotas\n",
       "4  MLA1367  Antigüedades y Colecciones"
      ]
     },
     "execution_count": 31,
     "metadata": {},
     "output_type": "execute_result"
    }
   ],
   "source": [
    "import requests\n",
    "import pandas as pd\n",
    "\n",
    "url = \"https://api.mercadolibre.com/sites/MLA/categories\"\n",
    "\n",
    "response = requests.get(url)\n",
    "\n",
    "if response.status_code == 200:\n",
    "    data = response.json()\n",
    "    df = pd.DataFrame(data)\n",
    "    #print(f\"Datos leídos con éxito: {response.status_code}\")\n",
    "    \n",
    "else:\n",
    "    print(f\"Error al tratar de obtener los datos: {response.status_code}\")\n",
    "\n",
    "df.head()"
   ]
  },
  {
   "cell_type": "code",
   "execution_count": 30,
   "id": "27914ff9-178d-4d24-85e5-2afe4460d2e0",
   "metadata": {},
   "outputs": [
    {
     "name": "stdout",
     "output_type": "stream",
     "text": [
      "URL Categorias: https://api.mercadolibre.com/sites/MLA/search?category=MLA1000&offset=1\n",
      "Error al tratar de obtener los datos: 400\n",
      "{\n",
      "    \"site_id\": \"MLA\",\n",
      "    \"country_default_time_zone\": \"GMT-03:00\",\n",
      "    \"paging\": {\n",
      "        \"total\": 0,\n",
      "        \"primary_results\": 0,\n",
      "        \"offset\": 0,\n",
      "        \"limit\": 50\n",
      "    },\n",
      "    \"results\": [],\n",
      "    \"sort\": {\n",
      "        \"id\": \"relevance\",\n",
      "        \"name\": \"M\\u00e1s relevantes\"\n",
      "    },\n",
      "    \"available_sorts\": [\n",
      "        {\n",
      "            \"id\": \"price_asc\",\n",
      "            \"name\": \"Menor precio\"\n",
      "        },\n",
      "        {\n",
      "            \"id\": \"price_desc\",\n",
      "            \"name\": \"Mayor precio\"\n",
      "        }\n",
      "    ],\n",
      "    \"filters\": [],\n",
      "    \"available_filters\": [],\n",
      "    \"pdp_tracking\": {\n",
      "        \"group\": false,\n",
      "        \"product_info\": []\n",
      "    },\n",
      "    \"user_context\": null\n",
      "}\n"
     ]
    }
   ],
   "source": [
    "import json\n",
    "import requests\n",
    "\n",
    "cat_id = 'MLA1000'\n",
    "offset = 1\n",
    "url_categories = \"https://api.mercadolibre.com/sites/MLA/search?category=MLA1000&offset=1\"\n",
    "print(f\"URL Categorias: {url_categories}\")\n",
    "response_categorias = requests.get(url_categories)\n",
    "\n",
    "if response.status_code == 200:\n",
    "    data = response_categorias.json()\n",
    "    #df = pd.DataFrame(data)\n",
    "    #print(f\"Datos leídos con éxito: {response.status_code}\")\n",
    "    \n",
    "else:\n",
    "    print(f\"Error al tratar de obtener los datos: {response.status_code}\")\n",
    "\n",
    "\n",
    "\n",
    "formatted_json = json.dumps(data, indent=4)  # Formato legible\n",
    "print(formatted_json)"
   ]
  },
  {
   "cell_type": "code",
   "execution_count": null,
   "id": "034cc8fd-86f6-4d92-9d9c-20b7f04561a8",
   "metadata": {},
   "outputs": [],
   "source": []
  }
 ],
 "metadata": {
  "kernelspec": {
   "display_name": "Python 3 (ipykernel)",
   "language": "python",
   "name": "python3"
  },
  "language_info": {
   "codemirror_mode": {
    "name": "ipython",
    "version": 3
   },
   "file_extension": ".py",
   "mimetype": "text/x-python",
   "name": "python",
   "nbconvert_exporter": "python",
   "pygments_lexer": "ipython3",
   "version": "3.10.11"
  }
 },
 "nbformat": 4,
 "nbformat_minor": 5
}
